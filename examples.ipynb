{
 "cells": [
  {
   "cell_type": "markdown",
   "metadata": {
    "pycharm": {
     "name": "#%% md\n"
    }
   },
   "source": [
    "# Illustration of the entropy adaptation for Gaussian targets"
   ]
  },
  {
   "cell_type": "markdown",
   "metadata": {},
   "source": [
    "## Ill-conditioned Gaussian target with independent mass matrix\n",
    "\n"
   ]
  },
  {
   "cell_type": "markdown",
   "metadata": {},
   "source": [
    "Imports"
   ]
  },
  {
   "cell_type": "code",
   "execution_count": 1,
   "metadata": {
    "pycharm": {
     "name": "#%%\n"
    }
   },
   "outputs": [],
   "source": [
    "import tensorflow as tf\n",
    "import tensorflow_probability as tfp\n",
    "import numpy as np\n",
    "import time\n",
    "import matplotlib.pyplot as plt\n",
    "import seaborn as sns\n",
    "from adaptive_linear_preconditioned_hmc import AdaptivePreconditionedHamiltonianMonteCarlo\n",
    "from tensorflow_probability.python.experimental.mcmc.preconditioned_hmc import PreconditionedHamiltonianMonteCarlo\n",
    "tfd = tfp.distributions\n",
    "tfb = tfp.bijectors"
   ]
  },
  {
   "cell_type": "markdown",
   "metadata": {},
   "source": [
    "Define hyperparameters"
   ]
  },
  {
   "cell_type": "code",
   "execution_count": 2,
   "metadata": {
    "pycharm": {
     "name": "#%%\n"
    }
   },
   "outputs": [],
   "source": [
    "NUM_CHAINS = 10\n",
    "NUM_LEAPFROG_STEPS = 5\n",
    "DIMS = 50\n",
    "NUM_RESULTS = 10000\n",
    "LEARNING_RATE = .0005\n"
   ]
  },
  {
   "cell_type": "markdown",
   "metadata": {},
   "source": [
    "Define ill-conditioned Gaussian target"
   ]
  },
  {
   "cell_type": "code",
   "execution_count": 3,
   "metadata": {
    "pycharm": {
     "name": "#%%\n"
    }
   },
   "outputs": [],
   "source": [
    "dtype = tf.float32\n",
    "diags = np.exp(3*np.linspace(0., DIMS-1, DIMS) / (DIMS-1) *np.log(10))\n",
    "std = tf.Variable(diags, dtype=dtype, name='std')\n",
    "target_dist = tfd.MultivariateNormalDiag(\n",
    "          loc=tf.zeros(DIMS), scale_diag=std)\n",
    "target = target_dist.log_prob\n",
    "eigenvalues_target, _ = tf.linalg.eigh(target_dist.covariance())\n",
    "smooth_param = 1/eigenvalues_target[0]\n",
    "init_positions = tf.random.normal([NUM_CHAINS, DIMS])/tf.sqrt(smooth_param)\n"
   ]
  },
  {
   "cell_type": "markdown",
   "metadata": {},
   "source": [
    "Define parameters for preconditioning"
   ]
  },
  {
   "cell_type": "code",
   "execution_count": 4,
   "metadata": {
    "pycharm": {
     "name": "#%%\n"
    }
   },
   "outputs": [],
   "source": [
    "pre_cond_scale_diag_init = tfd.Normal(\n",
    "  loc = 0., scale = 1).sample(DIMS) * tf.math.pow(tf.cast(DIMS, tf.float32), -1 / 3)\n",
    "pre_cond_scale_diag = tf.Variable(\n",
    "  initial_value = pre_cond_scale_diag_init * tf.ones([DIMS]))\n",
    "pre_cond_params = [pre_cond_scale_diag]\n",
    "\n",
    "#Define a function that returns the precision cholesky factor\n",
    "#of the momentum distribution as well as the momentum distribution iself\n",
    "#We assume here a diagonal mass matrix\n",
    "def make_pre_cond_fn(params):\n",
    "  pre_cond_scale_diag = params[0]\n",
    "  pre_cond_operator = tf.linalg.LinearOperatorDiag(diag = pre_cond_scale_diag)\n",
    "  momentum_distribution = tfp.experimental.distributions.MultivariateNormalPrecisionFactorLinearOperator(\n",
    "    loc = tf.cast(tf.zeros([NUM_CHAINS, DIMS]), dtype),\n",
    "    precision_factor = pre_cond_operator\n",
    "  )\n",
    "  return pre_cond_operator, momentum_distribution\n",
    "\n"
   ]
  },
  {
   "cell_type": "markdown",
   "source": [
    "Define adaptive HMC sampler and sampling function"
   ],
   "metadata": {
    "collapsed": false
   }
  },
  {
   "cell_type": "code",
   "execution_count": 5,
   "outputs": [],
   "source": [
    "precond_hmc = AdaptivePreconditionedHamiltonianMonteCarlo(\n",
    "    target_log_prob_fn = target,\n",
    "    make_pre_cond_fn = make_pre_cond_fn,\n",
    "    params = pre_cond_params,\n",
    "    step_size = 1.,\n",
    "    num_leapfrog_steps = NUM_LEAPFROG_STEPS,\n",
    "    learning_rate = LEARNING_RATE,\n",
    "    opt_acceptance_rate = .7,\n",
    "    beta_learning_rate = .1,\n",
    ")\n",
    "\n",
    "#For illustatation, we keep here track of different kernel results of\n",
    "#the adapted parallel chains that can be useful for diagnostics\n",
    "def trace_fn(states, previous_kernel_results):\n",
    "    return (\n",
    "      previous_kernel_results.is_accepted,\n",
    "      previous_kernel_results.log_accept_ratio,\n",
    "      previous_kernel_results.proposed_results.mcmc_loss,\n",
    "      previous_kernel_results.proposed_results.entropy_weight,\n",
    "      previous_kernel_results.proposed_results.proposal_log_prob,\n",
    "      previous_kernel_results.proposed_results.eigenvalue_estimate,\n",
    "      previous_kernel_results.proposed_results.log_det_jac_transformation,\n",
    "      previous_kernel_results.proposed_results.trace_residual_log_det,\n",
    "      previous_kernel_results.proposed_results.params[0][0],\n",
    "      previous_kernel_results.proposed_results.grads[0][0]\n",
    "    )\n",
    "\n",
    "@tf.function\n",
    "def run_precond_hmc_chain():\n",
    "  samples, kernel_results = tfp.mcmc.sample_chain(\n",
    "    num_results=NUM_RESULTS,\n",
    "    num_burnin_steps=0,\n",
    "    current_state=tf.cast(init_positions, dtype),\n",
    "    kernel=precond_hmc,\n",
    "    num_steps_between_results=0,\n",
    "    trace_fn = trace_fn,\n",
    "    return_final_kernel_results=False)\n",
    "\n",
    "  return samples, kernel_results"
   ],
   "metadata": {
    "collapsed": false,
    "pycharm": {
     "name": "#%%\n"
    }
   }
  },
  {
   "cell_type": "markdown",
   "source": [
    "Run adaptive HMC chain"
   ],
   "metadata": {
    "collapsed": false
   }
  },
  {
   "cell_type": "code",
   "execution_count": 6,
   "outputs": [
    {
     "name": "stdout",
     "output_type": "stream",
     "text": [
      "WARNING:tensorflow:From /home/marcel/PycharmProjects/tf25/lib/python3.6/site-packages/tensorflow_probability/python/distributions/distribution.py:298: calling MultivariateNormalDiag.__init__ (from tensorflow_probability.python.distributions.mvn_diag) with scale_identity_multiplier is deprecated and will be removed after 2020-01-01.\n",
      "Instructions for updating:\n",
      "`scale_identity_multiplier` is deprecated; please combine it with `scale_diag` directly instead.\n"
     ]
    }
   ],
   "source": [
    "def compute_ess(samples, dt):\n",
    "    ess = tfp.mcmc.effective_sample_size(samples)\n",
    "    min_ess_per_sec = tf.reduce_min(tf.reduce_mean(ess, 0)) / dt\n",
    "    min_ess = tf.reduce_min(tf.reduce_mean(ess, 0))\n",
    "    mean_ess = np.mean(ess)\n",
    "    return ess, mean_ess, min_ess, min_ess_per_sec\n",
    "\n",
    "\n",
    "start_time_hmc_adapt = time.time()\n",
    "samples_hmc_adapt, results_hmc_adapt = run_precond_hmc_chain()\n",
    "(is_accepted_hmc_adapt,\\\n",
    "    log_accept_ratio_hmc_adapt,\\\n",
    "    mcmc_loss_hmc_adapt,\\\n",
    "    entropy_weight_hmc_adapt,\\\n",
    "    proposal_log_prob_hmc_adapt,\\\n",
    "    eigenvalue_estimate_hmc_adapt,\\\n",
    "    log_det_jac_transformation_hmc_adapt,\\\n",
    "    trace_residual_log_det_hmc_adapt,\\\n",
    "    params_hmc_adapt,\\\n",
    "    grads_hmc_adapt\n",
    " ) = results_hmc_adapt\n",
    "time_hmc_adapt = time.time() - start_time_hmc_adapt\n",
    "ess_hmc_adapt, _, min_ess_hmc_adapt, \\\n",
    "min_ess_per_sec_hmc_adapt \\\n",
    "  = compute_ess(samples_hmc_adapt, time_hmc_adapt)\n",
    "\n"
   ],
   "metadata": {
    "collapsed": false,
    "pycharm": {
     "name": "#%%\n"
    }
   }
  },
  {
   "cell_type": "markdown",
   "source": [
    "Define learned (adapted) HMC sampler"
   ],
   "metadata": {
    "collapsed": false
   }
  },
  {
   "cell_type": "code",
   "execution_count": 7,
   "outputs": [],
   "source": [
    "pre_cond_operator, momentum_distribution = make_pre_cond_fn(pre_cond_params)\n",
    "\n",
    "learned_precond_hmc = PreconditionedHamiltonianMonteCarlo(\n",
    "  target_log_prob_fn = target,\n",
    "  step_size = precond_hmc._impl.inner_kernel._step_size.numpy(),\n",
    "  num_leapfrog_steps = NUM_LEAPFROG_STEPS,\n",
    "  momentum_distribution = momentum_distribution\n",
    ")\n",
    "\n",
    "def trace_fn_learned(states, previous_kernel_results):\n",
    "    return (previous_kernel_results.is_accepted,\n",
    "            previous_kernel_results.accepted_results.target_log_prob)\n",
    "\n",
    "@tf.function\n",
    "def run_learned_precond_hmc_chain():\n",
    "  samples, kernel_results = tfp.mcmc.sample_chain(\n",
    "    num_results=NUM_RESULTS,\n",
    "    num_burnin_steps=0,\n",
    "    current_state=samples_hmc_adapt[-1],\n",
    "    kernel=learned_precond_hmc,\n",
    "    num_steps_between_results=0,\n",
    "    trace_fn = trace_fn_learned,\n",
    "    return_final_kernel_results=False)\n",
    "\n",
    "  return samples, kernel_results\n"
   ],
   "metadata": {
    "collapsed": false,
    "pycharm": {
     "name": "#%%\n"
    }
   }
  },
  {
   "cell_type": "markdown",
   "source": [
    "Run learned HMC sampler"
   ],
   "metadata": {
    "collapsed": false
   }
  },
  {
   "cell_type": "code",
   "execution_count": 8,
   "outputs": [
    {
     "name": "stdout",
     "output_type": "stream",
     "text": [
      "iid Gaussian minESS/sec: 0.8141636848449707\n"
     ]
    }
   ],
   "source": [
    "start_time_hmc_learned = time.time()\n",
    "samples_hmc_learned, kernel_results_hmc_learned \\\n",
    "  = run_learned_precond_hmc_chain()\n",
    "time_hmc_learned = time.time() - start_time_hmc_learned\n",
    "\n",
    "#Compute ESS statistics\n",
    "ess_hmc_learned, mean_ess_hmc_learned, min_ess_hmc_learned, \\\n",
    "min_ess_per_sec_hmc_learned \\\n",
    "  = compute_ess(samples_hmc_learned, time_hmc_learned)\n",
    "print('iid Gaussian minESS/sec: {}'.format(min_ess_per_sec_hmc_learned))\n"
   ],
   "metadata": {
    "collapsed": false,
    "pycharm": {
     "name": "#%%\n"
    }
   }
  },
  {
   "cell_type": "markdown",
   "source": [
    "## Correlated Gaussian target with full mass matrix\n",
    "\n"
   ],
   "metadata": {
    "collapsed": false
   }
  },
  {
   "cell_type": "code",
   "execution_count": 9,
   "outputs": [],
   "source": [
    "index_points = np.expand_dims(np.linspace(0., 4.,  DIMS), -1)\n",
    "gp_cov_matrix_=np.zeros([DIMS,DIMS])\n",
    "for i in range(0,DIMS):\n",
    "  for j in range(0,DIMS):\n",
    "    gp_cov_matrix_[i,j]=np.exp(-.5*(index_points[i]-index_points[j])**2/.16)\n",
    "for i in range(0,DIMS):\n",
    "  gp_cov_matrix_[i,i]=gp_cov_matrix_[i,i]+.01\n",
    "\n",
    "target_dist = tfd.MultivariateNormalTriL(\n",
    "  loc = tf.zeros(DIMS), scale_tril = tf.linalg.cholesky(tf.cast(gp_cov_matrix_, dtype)))\n",
    "target = target_dist.log_prob\n",
    "\n",
    "def hessian_potential(z):\n",
    "  return tf.linalg.inv(tf.cast(gp_cov_matrix_, dtype))\n",
    "\n",
    "#eigenvalues of target and initialise initial samples and parameters\n",
    "eigenvalues_target, _ = tf.linalg.eigh(target_dist.covariance())\n",
    "smooth_param = 1/eigenvalues_target[0]\n",
    "init_positions = tf.random.normal([NUM_CHAINS, DIMS])/tf.sqrt(smooth_param)\n"
   ],
   "metadata": {
    "collapsed": false,
    "pycharm": {
     "name": "#%%\n"
    }
   }
  },
  {
   "cell_type": "markdown",
   "source": [
    "Define parameters for preconditioning"
   ],
   "metadata": {
    "collapsed": false
   }
  },
  {
   "cell_type": "code",
   "execution_count": 10,
   "outputs": [],
   "source": [
    "#params for preconditinong\n",
    "pre_cond_scale_diag_init = tfd.Normal(\n",
    "  loc = 0., scale = .1).sample(DIMS)/NUM_LEAPFROG_STEPS\n",
    "pre_cond_tril = tf.Variable(\n",
    "    initial_value =pre_cond_scale_diag_init * tf.eye(DIMS))\n",
    "pre_cond_params = [pre_cond_tril]\n",
    "\n",
    "#Define a function that returns the precision cholesky factor\n",
    "#of the momentum distribution as well as the momentum distribution iself\n",
    "#We assume here a dense matrix mass matrix\n",
    "def make_pre_cond_fn(params):\n",
    "  pre_cond_tril = params[0]\n",
    "  pre_cond_operator = tf.linalg.LinearOperatorLowerTriangular(tril = pre_cond_tril)\n",
    "  momentum_distribution = tfp.experimental.distributions.MultivariateNormalPrecisionFactorLinearOperator(\n",
    "    loc = tf.cast(tf.zeros([NUM_CHAINS, DIMS]), dtype),\n",
    "    precision_factor = pre_cond_operator\n",
    "  )\n",
    "  return pre_cond_operator, momentum_distribution\n",
    "\n"
   ],
   "metadata": {
    "collapsed": false,
    "pycharm": {
     "name": "#%%\n"
    }
   }
  },
  {
   "cell_type": "markdown",
   "source": [
    "Define adaptive HMC sampler and sampling function"
   ],
   "metadata": {
    "collapsed": false
   }
  },
  {
   "cell_type": "code",
   "execution_count": 11,
   "outputs": [],
   "source": [
    "precond_hmc = AdaptivePreconditionedHamiltonianMonteCarlo(\n",
    "    target_log_prob_fn = target,\n",
    "    make_pre_cond_fn = make_pre_cond_fn,\n",
    "    params = pre_cond_params,\n",
    "    step_size = 1.,\n",
    "    num_leapfrog_steps = NUM_LEAPFROG_STEPS,\n",
    "    learning_rate = LEARNING_RATE,\n",
    "    opt_acceptance_rate = .7,\n",
    "    beta_learning_rate = .1,\n",
    ")\n",
    "\n",
    "#For illustatation, we keep here track of different kernel results of\n",
    "#the adapted parallel chains that can be useful for diagnostics\n",
    "def trace_fn(states, previous_kernel_results):\n",
    "    return (\n",
    "      previous_kernel_results.is_accepted,\n",
    "      previous_kernel_results.log_accept_ratio,\n",
    "      previous_kernel_results.proposed_results.mcmc_loss,\n",
    "      previous_kernel_results.proposed_results.entropy_weight,\n",
    "      previous_kernel_results.proposed_results.proposal_log_prob,\n",
    "      previous_kernel_results.proposed_results.eigenvalue_estimate,\n",
    "      previous_kernel_results.proposed_results.log_det_jac_transformation,\n",
    "      previous_kernel_results.proposed_results.trace_residual_log_det,\n",
    "      previous_kernel_results.proposed_results.params[0][0],\n",
    "      previous_kernel_results.proposed_results.grads[0][0]\n",
    "    )\n",
    "\n",
    "@tf.function\n",
    "def run_precond_hmc_chain():\n",
    "  samples, kernel_results = tfp.mcmc.sample_chain(\n",
    "    num_results=NUM_RESULTS,\n",
    "    num_burnin_steps=0,\n",
    "    current_state=tf.cast(init_positions, dtype),\n",
    "    kernel=precond_hmc,\n",
    "    num_steps_between_results=0,\n",
    "    trace_fn = trace_fn,\n",
    "    return_final_kernel_results=False)\n",
    "\n",
    "  return samples, kernel_results"
   ],
   "metadata": {
    "collapsed": false,
    "pycharm": {
     "name": "#%%\n"
    }
   }
  },
  {
   "cell_type": "markdown",
   "source": [
    "Run adaptive HMC chain"
   ],
   "metadata": {
    "collapsed": false
   }
  },
  {
   "cell_type": "code",
   "execution_count": 12,
   "outputs": [],
   "source": [
    "def compute_ess(samples, dt):\n",
    "    ess = tfp.mcmc.effective_sample_size(samples)\n",
    "    min_ess_per_sec = tf.reduce_min(tf.reduce_mean(ess, 0)) / dt\n",
    "    min_ess = tf.reduce_min(tf.reduce_mean(ess, 0))\n",
    "    mean_ess = np.mean(ess)\n",
    "    return ess, mean_ess, min_ess, min_ess_per_sec\n",
    "\n",
    "\n",
    "start_time_hmc_adapt = time.time()\n",
    "samples_hmc_adapt, results_hmc_adapt = run_precond_hmc_chain()\n",
    "(is_accepted_hmc_adapt,\\\n",
    "    log_accept_ratio_hmc_adapt,\\\n",
    "    mcmc_loss_hmc_adapt,\\\n",
    "    entropy_weight_hmc_adapt,\\\n",
    "    proposal_log_prob_hmc_adapt,\\\n",
    "    eigenvalue_estimate_hmc_adapt,\\\n",
    "    log_det_jac_transformation_hmc_adapt,\\\n",
    "    trace_residual_log_det_hmc_adapt,\\\n",
    "    params_hmc_adapt,\\\n",
    "    grads_hmc_adapt\n",
    " ) = results_hmc_adapt\n",
    "time_hmc_adapt = time.time() - start_time_hmc_adapt\n",
    "ess_hmc_adapt, _, min_ess_hmc_adapt, \\\n",
    "min_ess_per_sec_hmc_adapt \\\n",
    "  = compute_ess(samples_hmc_adapt, time_hmc_adapt)\n",
    "\n"
   ],
   "metadata": {
    "collapsed": false,
    "pycharm": {
     "name": "#%%\n"
    }
   }
  },
  {
   "cell_type": "markdown",
   "source": [
    "Define learned (adapted) HMC sampler"
   ],
   "metadata": {
    "collapsed": false
   }
  },
  {
   "cell_type": "code",
   "execution_count": 13,
   "outputs": [],
   "source": [
    "pre_cond_operator, momentum_distribution = make_pre_cond_fn(pre_cond_params)\n",
    "\n",
    "learned_precond_hmc = PreconditionedHamiltonianMonteCarlo(\n",
    "  target_log_prob_fn = target,\n",
    "  step_size = precond_hmc._impl.inner_kernel._step_size.numpy(),\n",
    "  num_leapfrog_steps = NUM_LEAPFROG_STEPS,\n",
    "  momentum_distribution = momentum_distribution\n",
    ")\n",
    "\n",
    "def trace_fn_learned(states, previous_kernel_results):\n",
    "    return (previous_kernel_results.is_accepted,\n",
    "            previous_kernel_results.accepted_results.target_log_prob)\n",
    "\n",
    "@tf.function\n",
    "def run_learned_precond_hmc_chain():\n",
    "  samples, kernel_results = tfp.mcmc.sample_chain(\n",
    "    num_results=NUM_RESULTS,\n",
    "    num_burnin_steps=0,\n",
    "    current_state=samples_hmc_adapt[-1],\n",
    "    kernel=learned_precond_hmc,\n",
    "    num_steps_between_results=0,\n",
    "    trace_fn = trace_fn_learned,\n",
    "    return_final_kernel_results=False)\n",
    "\n",
    "  return samples, kernel_results"
   ],
   "metadata": {
    "collapsed": false,
    "pycharm": {
     "name": "#%%\n"
    }
   }
  },
  {
   "cell_type": "markdown",
   "source": [
    "Plot the inverse mass matrix"
   ],
   "metadata": {
    "collapsed": false,
    "pycharm": {
     "name": "#%% md\n"
    }
   }
  },
  {
   "cell_type": "code",
   "execution_count": 14,
   "outputs": [
    {
     "data": {
      "text/plain": "<Figure size 432x288 with 2 Axes>",
      "image/png": "[encoded data removed]"
     },
     "metadata": {
      "needs_background": "light"
     },
     "output_type": "display_data"
    }
   ],
   "source": [
    "C_adapt = pre_cond_operator.to_dense().numpy()\n",
    "inv_M_adapt = np.matmul(C_adapt,C_adapt.transpose())\n",
    "\n",
    "#compute transformed target\n",
    "transformed_hessian=tf.matmul(tf.matmul(C_adapt, tf.linalg.inv(target_dist.covariance()),\n",
    "                                        adjoint_a=True), C_adapt)\n",
    "transformed_eigenvalues,_=tf.linalg.eigh(transformed_hessian)\n",
    "\n",
    "#plot inverse mass matrix\n",
    "sns.heatmap(inv_M_adapt)\n",
    "plt.show()\n"
   ],
   "metadata": {
    "collapsed": false,
    "pycharm": {
     "name": "#%%\n"
    }
   }
  },
  {
   "cell_type": "markdown",
   "source": [
    "Run learned HMC sampler"
   ],
   "metadata": {
    "collapsed": false
   }
  },
  {
   "cell_type": "code",
   "execution_count": 15,
   "outputs": [
    {
     "name": "stdout",
     "output_type": "stream",
     "text": [
      "correlated Gaussian minESS/sec: 3.060520887374878\n"
     ]
    }
   ],
   "source": [
    "start_time_hmc_learned = time.time()\n",
    "samples_hmc_learned, kernel_results_hmc_learned \\\n",
    "  = run_learned_precond_hmc_chain()\n",
    "time_hmc_learned = time.time() - start_time_hmc_learned\n",
    "\n",
    "#Compute ESS statistics\n",
    "ess_hmc_learned, mean_ess_hmc_learned, min_ess_hmc_learned, \\\n",
    "min_ess_per_sec_hmc_learned \\\n",
    "  = compute_ess(samples_hmc_learned, time_hmc_learned)\n",
    "print('correlated Gaussian minESS/sec: {}'.format(min_ess_per_sec_hmc_learned))\n",
    "\n"
   ],
   "metadata": {
    "collapsed": false,
    "pycharm": {
     "name": "#%%\n"
    }
   }
  }
 ],
 "metadata": {
  "kernelspec": {
   "display_name": "Python 3",
   "language": "python",
   "name": "python3"
  },
  "language_info": {
   "codemirror_mode": {
    "name": "ipython",
    "version": 3
   },
   "file_extension": ".py",
   "mimetype": "text/x-python",
   "name": "python",
   "nbconvert_exporter": "python",
   "pygments_lexer": "ipython3",
   "version": "3.6.9"
  }
 },
 "nbformat": 4,
 "nbformat_minor": 1
}